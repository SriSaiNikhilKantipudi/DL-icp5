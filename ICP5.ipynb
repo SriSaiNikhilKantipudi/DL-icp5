{
  "nbformat": 4,
  "nbformat_minor": 0,
  "metadata": {
    "colab": {
      "name": "ICP5.ipynb",
      "provenance": []
    },
    "kernelspec": {
      "name": "python3",
      "display_name": "Python 3"
    },
    "accelerator": "GPU"
  },
  "cells": [
    {
      "cell_type": "code",
      "metadata": {
        "id": "u70o2knoVDtt",
        "colab_type": "code",
        "colab": {}
      },
      "source": [
        "import pandas as pd # data processing, CSV file I/O (e.g. pd.read_csv)\n",
        "from keras.preprocessing.text import Tokenizer\n",
        "from keras.preprocessing.sequence import pad_sequences\n",
        "from keras.models import Sequential\n",
        "from keras.layers import Dense, Embedding, LSTM, SpatialDropout1D\n",
        "from matplotlib import pyplot\n",
        "from sklearn.model_selection import train_test_split\n",
        "from keras.utils.np_utils import to_categorical\n",
        "import re\n",
        "from sklearn.preprocessing import LabelEncoder"
      ],
      "execution_count": 0,
      "outputs": []
    },
    {
      "cell_type": "code",
      "metadata": {
        "id": "yOmTB9bhYB69",
        "colab_type": "code",
        "colab": {
          "base_uri": "https://localhost:8080/",
          "height": 121
        },
        "outputId": "3072038e-86aa-4283-a901-9bb7375c0908"
      },
      "source": [
        "from google.colab import drive\n",
        "drive.mount('/content/drive')"
      ],
      "execution_count": 5,
      "outputs": [
        {
          "output_type": "stream",
          "text": [
            "Go to this URL in a browser: https://accounts.google.com/o/oauth2/auth?client_id=947318989803-6bn6qk8qdgf4n4g3pfee6491hc0brc4i.apps.googleusercontent.com&redirect_uri=urn%3aietf%3awg%3aoauth%3a2.0%3aoob&response_type=code&scope=email%20https%3a%2f%2fwww.googleapis.com%2fauth%2fdocs.test%20https%3a%2f%2fwww.googleapis.com%2fauth%2fdrive%20https%3a%2f%2fwww.googleapis.com%2fauth%2fdrive.photos.readonly%20https%3a%2f%2fwww.googleapis.com%2fauth%2fpeopleapi.readonly\n",
            "\n",
            "Enter your authorization code:\n",
            "··········\n",
            "Mounted at /content/drive\n"
          ],
          "name": "stdout"
        }
      ]
    },
    {
      "cell_type": "code",
      "metadata": {
        "id": "ZVtPfKcXVKfy",
        "colab_type": "code",
        "colab": {}
      },
      "source": [
        "data = pd.read_csv('/content/drive/My Drive/Colab Notebooks/Sentiment.csv')\n",
        "# Keeping only the neccessary columns\n",
        "data = data[['text','sentiment']]"
      ],
      "execution_count": 0,
      "outputs": []
    },
    {
      "cell_type": "code",
      "metadata": {
        "id": "QZjgo8n7VQA1",
        "colab_type": "code",
        "colab": {}
      },
      "source": [
        "data['text'] = data['text'].apply(lambda x: x.lower())\n",
        "data['text'] = data['text'].apply((lambda x: re.sub('[^a-zA-z0-9\\s]', '', x)))"
      ],
      "execution_count": 0,
      "outputs": []
    },
    {
      "cell_type": "code",
      "metadata": {
        "id": "GvzWGl1rVRZY",
        "colab_type": "code",
        "colab": {}
      },
      "source": [
        "for idx, row in data.iterrows():\n",
        "    row[0] = row[0].replace('rt', ' ')"
      ],
      "execution_count": 0,
      "outputs": []
    },
    {
      "cell_type": "code",
      "metadata": {
        "id": "rcn-Si3-VTMZ",
        "colab_type": "code",
        "colab": {}
      },
      "source": [
        "max_fatures = 2000\n",
        "tokenizer = Tokenizer(num_words=max_fatures, split=' ')\n",
        "tokenizer.fit_on_texts(data['text'].values)\n",
        "X = tokenizer.texts_to_sequences(data['text'].values)\n",
        "\n",
        "X = pad_sequences(X)"
      ],
      "execution_count": 0,
      "outputs": []
    },
    {
      "cell_type": "code",
      "metadata": {
        "id": "t8b9O4zfVU0f",
        "colab_type": "code",
        "colab": {}
      },
      "source": [
        "def createmodel():\n",
        "    model = Sequential()\n",
        "    lstm_out=196\n",
        "    embed_dim=128\n",
        "    model.add(Embedding(max_fatures, embed_dim,input_length = X.shape[1]))\n",
        "    model.add(LSTM(lstm_out, dropout=0.2, recurrent_dropout=0.2))\n",
        "    model.add(Dense(3,activation='softmax'))\n",
        "    model.compile(loss = 'categorical_crossentropy', optimizer='adam',metrics = ['accuracy'])\n",
        "    return model\n",
        "    #print(model.summary())"
      ],
      "execution_count": 0,
      "outputs": []
    },
    {
      "cell_type": "code",
      "metadata": {
        "id": "dKOVUeyJVWcZ",
        "colab_type": "code",
        "outputId": "d69852ce-8ee5-49d1-820d-2814dce728d7",
        "colab": {
          "base_uri": "https://localhost:8080/",
          "height": 235
        }
      },
      "source": [
        "labelencoder = LabelEncoder()\n",
        "integer_encoded = labelencoder.fit_transform(data['sentiment'])\n",
        "print(integer_encoded)\n",
        "print(data['sentiment'])\n",
        "y = to_categorical(integer_encoded)\n",
        "X_train, X_test, Y_train, Y_test = train_test_split(X,y, test_size = 0.33, random_state = 42)"
      ],
      "execution_count": 11,
      "outputs": [
        {
          "output_type": "stream",
          "text": [
            "[1 2 1 ... 2 0 2]\n",
            "0         Neutral\n",
            "1        Positive\n",
            "2         Neutral\n",
            "3        Positive\n",
            "4        Positive\n",
            "           ...   \n",
            "13866    Negative\n",
            "13867    Positive\n",
            "13868    Positive\n",
            "13869    Negative\n",
            "13870    Positive\n",
            "Name: sentiment, Length: 13871, dtype: object\n"
          ],
          "name": "stdout"
        }
      ]
    },
    {
      "cell_type": "code",
      "metadata": {
        "id": "_gyUU0LtVYIC",
        "colab_type": "code",
        "outputId": "218103d6-e91f-4bcb-8bf3-ac4f39a6e43e",
        "colab": {
          "base_uri": "https://localhost:8080/",
          "height": 793
        }
      },
      "source": [
        "batch_size = 32\n",
        "model = createmodel()\n",
        "model.fit(X_train, Y_train, epochs = 20, batch_size=batch_size, verbose = 2)\n",
        "score,acc = model.evaluate(X_test,Y_test,verbose=2,batch_size=batch_size)\n",
        "print('score',score)\n",
        "print('accuracy',acc)\n",
        "print('Model Metrics Names',model.metrics_names)"
      ],
      "execution_count": 12,
      "outputs": [
        {
          "output_type": "stream",
          "text": [
            "/usr/local/lib/python3.6/dist-packages/tensorflow/python/framework/indexed_slices.py:434: UserWarning: Converting sparse IndexedSlices to a dense Tensor of unknown shape. This may consume a large amount of memory.\n",
            "  \"Converting sparse IndexedSlices to a dense Tensor of unknown shape. \"\n"
          ],
          "name": "stderr"
        },
        {
          "output_type": "stream",
          "text": [
            "Epoch 1/20\n",
            " - 19s - loss: 0.8285 - accuracy: 0.6421\n",
            "Epoch 2/20\n",
            " - 17s - loss: 0.6866 - accuracy: 0.7081\n",
            "Epoch 3/20\n",
            " - 17s - loss: 0.6214 - accuracy: 0.7366\n",
            "Epoch 4/20\n",
            " - 17s - loss: 0.5786 - accuracy: 0.7616\n",
            "Epoch 5/20\n",
            " - 17s - loss: 0.5364 - accuracy: 0.7766\n",
            "Epoch 6/20\n",
            " - 17s - loss: 0.4936 - accuracy: 0.8004\n",
            "Epoch 7/20\n",
            " - 17s - loss: 0.4615 - accuracy: 0.8118\n",
            "Epoch 8/20\n",
            " - 17s - loss: 0.4279 - accuracy: 0.8277\n",
            "Epoch 9/20\n",
            " - 17s - loss: 0.3921 - accuracy: 0.8410\n",
            "Epoch 10/20\n",
            " - 18s - loss: 0.3711 - accuracy: 0.8506\n",
            "Epoch 11/20\n",
            " - 17s - loss: 0.3526 - accuracy: 0.8549\n",
            "Epoch 12/20\n",
            " - 18s - loss: 0.3254 - accuracy: 0.8677\n",
            "Epoch 13/20\n",
            " - 18s - loss: 0.3113 - accuracy: 0.8745\n",
            "Epoch 14/20\n",
            " - 17s - loss: 0.3001 - accuracy: 0.8784\n",
            "Epoch 15/20\n",
            " - 17s - loss: 0.2810 - accuracy: 0.8886\n",
            "Epoch 16/20\n",
            " - 17s - loss: 0.2773 - accuracy: 0.8884\n",
            "Epoch 17/20\n",
            " - 17s - loss: 0.2588 - accuracy: 0.8941\n",
            "Epoch 18/20\n",
            " - 17s - loss: 0.2504 - accuracy: 0.8968\n",
            "Epoch 19/20\n",
            " - 17s - loss: 0.2480 - accuracy: 0.8995\n",
            "Epoch 20/20\n",
            " - 17s - loss: 0.2381 - accuracy: 0.9011\n",
            "score 1.7945685562685412\n",
            "accuracy 0.6365224719047546\n",
            "Model Metrics Names ['loss', 'accuracy']\n"
          ],
          "name": "stdout"
        }
      ]
    },
    {
      "cell_type": "code",
      "metadata": {
        "id": "YTBxZoWlRO1W",
        "colab_type": "code",
        "colab": {}
      },
      "source": [
        "model.save('sample.h5')"
      ],
      "execution_count": 0,
      "outputs": []
    },
    {
      "cell_type": "code",
      "metadata": {
        "id": "ZbxEtWFIRXTt",
        "colab_type": "code",
        "outputId": "42bcfa21-dda6-410c-94b8-a6a20f454c08",
        "colab": {
          "base_uri": "https://localhost:8080/",
          "height": 70
        }
      },
      "source": [
        "from keras.models import load_model\n",
        "model= load_model('sample.h5')"
      ],
      "execution_count": 14,
      "outputs": [
        {
          "output_type": "stream",
          "text": [
            "/usr/local/lib/python3.6/dist-packages/tensorflow/python/framework/indexed_slices.py:434: UserWarning: Converting sparse IndexedSlices to a dense Tensor of unknown shape. This may consume a large amount of memory.\n",
            "  \"Converting sparse IndexedSlices to a dense Tensor of unknown shape. \"\n"
          ],
          "name": "stderr"
        }
      ]
    },
    {
      "cell_type": "code",
      "metadata": {
        "id": "tx6bwPb-ZBVO",
        "colab_type": "code",
        "outputId": "85a44735-0a7f-4da4-b386-6971e88ad65e",
        "colab": {
          "base_uri": "https://localhost:8080/",
          "height": 50
        }
      },
      "source": [
        "import numpy as np\n",
        "sentence = ['A lot of good things are happening. We are respected again throughout the world, and that is a great thing']\n",
        "#vectorizing the tweet by the pre-fitted tokenizer instance\n",
        "sentence = tokenizer.texts_to_sequences(sentence)\n",
        "#padding the tweet to have exactly the same shape as `embedding_2` input\n",
        "sentence = pad_sequences(sentence, maxlen=28, dtype='int32', value=0)\n",
        "sentiment = model.predict_classes(sentence,batch_size=1,verbose = 2)[0]\n",
        "print(sentiment)\n",
        "if sentiment == 1:\n",
        "  print(\"Neutral\")\n",
        "elif sentiment == 0:\n",
        "  print(\"Negative\")\n",
        "elif sentiment == 2:\n",
        "  print(\"Positive\")\n",
        "else:\n",
        "  print(\"Can not be determined\")"
      ],
      "execution_count": 15,
      "outputs": [
        {
          "output_type": "stream",
          "text": [
            "2\n",
            "Positive\n"
          ],
          "name": "stdout"
        }
      ]
    },
    {
      "cell_type": "markdown",
      "metadata": {
        "id": "2JaMYmEWRkNF",
        "colab_type": "text"
      },
      "source": [
        "2. Apply GridSearchCV on the source code provided in the class"
      ]
    },
    {
      "cell_type": "code",
      "metadata": {
        "id": "Nw5pyR8QIjum",
        "colab_type": "code",
        "outputId": "95a36993-293a-4df1-d421-9ca2d9f43d06",
        "colab": {
          "base_uri": "https://localhost:8080/",
          "height": 1000
        }
      },
      "source": [
        "from keras.wrappers.scikit_learn import KerasClassifier\n",
        "model = KerasClassifier(build_fn=createmodel,verbose=2)\n",
        "batch_size= [10, 20]\n",
        "epochs = [1, 2]\n",
        "param_grid= {'batch_size':batch_size, 'epochs':epochs}\n",
        "from sklearn.model_selection import GridSearchCV\n",
        "grid  = GridSearchCV(estimator=model, param_grid=param_grid)\n",
        "grid_result= grid.fit(X_train, y=Y_train)\n",
        "# summarize results\n",
        "print(\"Best: %f using %s\" % (grid_result.best_score_, grid_result.best_params_))"
      ],
      "execution_count": 16,
      "outputs": [
        {
          "output_type": "stream",
          "text": [
            "/usr/local/lib/python3.6/dist-packages/tensorflow/python/framework/indexed_slices.py:434: UserWarning: Converting sparse IndexedSlices to a dense Tensor of unknown shape. This may consume a large amount of memory.\n",
            "  \"Converting sparse IndexedSlices to a dense Tensor of unknown shape. \"\n"
          ],
          "name": "stderr"
        },
        {
          "output_type": "stream",
          "text": [
            "Epoch 1/1\n",
            " - 43s - loss: 0.8343 - accuracy: 0.6391\n",
            "Epoch 1/1\n",
            " - 43s - loss: 0.8261 - accuracy: 0.6500\n",
            "Epoch 1/1\n",
            " - 43s - loss: 0.8303 - accuracy: 0.6433\n",
            "Epoch 1/1\n",
            " - 43s - loss: 0.8337 - accuracy: 0.6420\n",
            "Epoch 1/1\n",
            " - 44s - loss: 0.8236 - accuracy: 0.6438\n",
            "Epoch 1/2\n",
            " - 43s - loss: 0.8305 - accuracy: 0.6434\n",
            "Epoch 2/2\n",
            " - 43s - loss: 0.6884 - accuracy: 0.7112\n",
            "Epoch 1/2\n",
            " - 43s - loss: 0.8297 - accuracy: 0.6458\n",
            "Epoch 2/2\n",
            " - 42s - loss: 0.6950 - accuracy: 0.7042\n",
            "Epoch 1/2\n",
            " - 44s - loss: 0.8265 - accuracy: 0.6411\n",
            "Epoch 2/2\n",
            " - 44s - loss: 0.6873 - accuracy: 0.7113\n",
            "Epoch 1/2\n",
            " - 43s - loss: 0.8291 - accuracy: 0.6453\n",
            "Epoch 2/2\n",
            " - 42s - loss: 0.6812 - accuracy: 0.7120\n",
            "Epoch 1/2\n",
            " - 42s - loss: 0.8217 - accuracy: 0.6468\n",
            "Epoch 2/2\n",
            " - 42s - loss: 0.6766 - accuracy: 0.7099\n",
            "Epoch 1/1\n",
            " - 22s - loss: 0.8374 - accuracy: 0.6407\n",
            "Epoch 1/1\n",
            " - 21s - loss: 0.8367 - accuracy: 0.6400\n",
            "Epoch 1/1\n",
            " - 22s - loss: 0.8392 - accuracy: 0.6369\n",
            "Epoch 1/1\n",
            " - 22s - loss: 0.8345 - accuracy: 0.6416\n",
            "Epoch 1/1\n",
            " - 22s - loss: 0.8332 - accuracy: 0.6401\n",
            "Epoch 1/2\n",
            " - 22s - loss: 0.8396 - accuracy: 0.6433\n",
            "Epoch 2/2\n",
            " - 22s - loss: 0.6917 - accuracy: 0.7041\n",
            "Epoch 1/2\n",
            " - 22s - loss: 0.8335 - accuracy: 0.6441\n",
            "Epoch 2/2\n",
            " - 21s - loss: 0.6937 - accuracy: 0.7070\n",
            "Epoch 1/2\n",
            " - 22s - loss: 0.8379 - accuracy: 0.6365\n",
            "Epoch 2/2\n",
            " - 22s - loss: 0.6870 - accuracy: 0.7066\n",
            "Epoch 1/2\n",
            " - 22s - loss: 0.8330 - accuracy: 0.6414\n",
            "Epoch 2/2\n",
            " - 23s - loss: 0.6849 - accuracy: 0.7080\n",
            "Epoch 1/2\n",
            " - 22s - loss: 0.8333 - accuracy: 0.6418\n",
            "Epoch 2/2\n",
            " - 22s - loss: 0.6735 - accuracy: 0.7167\n",
            "Epoch 1/2\n",
            " - 52s - loss: 0.8117 - accuracy: 0.6487\n",
            "Epoch 2/2\n",
            " - 52s - loss: 0.6823 - accuracy: 0.7152\n",
            "Best: 0.682233 using {'batch_size': 10, 'epochs': 2}\n"
          ],
          "name": "stdout"
        }
      ]
    },
    {
      "cell_type": "markdown",
      "metadata": {
        "id": "cjxLFuxmRaQr",
        "colab_type": "text"
      },
      "source": [
        "3. Apply the code on spamdata set availablein thesourcecode (text classification on the spam.csvdata set)"
      ]
    },
    {
      "cell_type": "code",
      "metadata": {
        "id": "_jGfuqbOQGgM",
        "colab_type": "code",
        "colab": {}
      },
      "source": [
        "data1 = pd.read_csv('/content/drive/My Drive/Colab Notebooks/spam.csv',encoding=\"ISO-8859-1\")\n",
        "\n",
        "# Keeping only the neccessary columns\n",
        "data1 = data1[['v1','v2']]"
      ],
      "execution_count": 0,
      "outputs": []
    },
    {
      "cell_type": "code",
      "metadata": {
        "id": "KlWtquHVQH7a",
        "colab_type": "code",
        "colab": {}
      },
      "source": [
        "data1['v2'] = data1['v2'].apply(lambda x: x.lower())\n",
        "data1['v2'] = data1['v2'].apply((lambda x: re.sub('[^a-zA-z0-9\\s]', '', x)))"
      ],
      "execution_count": 0,
      "outputs": []
    },
    {
      "cell_type": "code",
      "metadata": {
        "id": "RmoLWndiQevg",
        "colab_type": "code",
        "colab": {}
      },
      "source": [
        "for idx, row in data1.iterrows():\n",
        "    row[0] = row[0].replace('rt', ' ')"
      ],
      "execution_count": 0,
      "outputs": []
    },
    {
      "cell_type": "code",
      "metadata": {
        "id": "NxlwWkL6QmeF",
        "colab_type": "code",
        "colab": {}
      },
      "source": [
        "max_fatures = 2000\n",
        "tokenizer = Tokenizer(num_words=max_fatures, split=' ')\n",
        "tokenizer.fit_on_texts(data1['v2'].values)\n",
        "X = tokenizer.texts_to_sequences(data1['v2'].values)\n",
        "\n",
        "X = pad_sequences(X)"
      ],
      "execution_count": 0,
      "outputs": []
    },
    {
      "cell_type": "code",
      "metadata": {
        "id": "YhV6JOmPQsKA",
        "colab_type": "code",
        "colab": {}
      },
      "source": [
        "labelencoder = LabelEncoder()\n",
        "integer_encoded = labelencoder.fit_transform(data1['v1'])\n",
        "y = to_categorical(integer_encoded)\n",
        "X_train, X_test, Y_train, Y_test = train_test_split(X,y, test_size = 0.33, random_state = 42)"
      ],
      "execution_count": 0,
      "outputs": []
    },
    {
      "cell_type": "code",
      "metadata": {
        "id": "BAzB9Oo9QuhF",
        "colab_type": "code",
        "colab": {}
      },
      "source": [
        "def createmodel1():\n",
        "  embed_dim=128\n",
        "  lstm_out=196\n",
        "  model = Sequential()\n",
        "  model.add(Embedding(max_fatures, embed_dim,input_length = X.shape[1]))\n",
        "  model.add(LSTM(lstm_out, dropout=0.2, recurrent_dropout=0.2))\n",
        "  model.add(Dense(2,activation='sigmoid'))\n",
        "  model.compile(loss = 'categorical_crossentropy', optimizer='adam',metrics = ['accuracy'])\n",
        "  return model"
      ],
      "execution_count": 0,
      "outputs": []
    },
    {
      "cell_type": "code",
      "metadata": {
        "id": "gOwUj517Qwu9",
        "colab_type": "code",
        "outputId": "d798b3b4-cd10-4afe-84ca-786f0f2c837b",
        "colab": {
          "base_uri": "https://localhost:8080/",
          "height": 289
        }
      },
      "source": [
        "batch_size = 32\n",
        "model1 = createmodel1()\n",
        "model1.fit(X_train, Y_train, epochs = 5, batch_size=batch_size, verbose = 2)\n",
        "score,acc = model1.evaluate(X_test,Y_test,verbose=2,batch_size=batch_size)\n",
        "print(score)\n",
        "print(acc)\n",
        "print(model1.metrics_names)"
      ],
      "execution_count": 23,
      "outputs": [
        {
          "output_type": "stream",
          "text": [
            "/usr/local/lib/python3.6/dist-packages/tensorflow/python/framework/indexed_slices.py:434: UserWarning: Converting sparse IndexedSlices to a dense Tensor of unknown shape. This may consume a large amount of memory.\n",
            "  \"Converting sparse IndexedSlices to a dense Tensor of unknown shape. \"\n"
          ],
          "name": "stderr"
        },
        {
          "output_type": "stream",
          "text": [
            "Epoch 1/5\n",
            " - 34s - loss: 0.2200 - accuracy: 0.9279\n",
            "Epoch 2/5\n",
            " - 34s - loss: 0.0453 - accuracy: 0.9858\n",
            "Epoch 3/5\n",
            " - 34s - loss: 0.0242 - accuracy: 0.9925\n",
            "Epoch 4/5\n",
            " - 34s - loss: 0.0143 - accuracy: 0.9965\n",
            "Epoch 5/5\n",
            " - 34s - loss: 0.0193 - accuracy: 0.9952\n",
            "0.07585310827446427\n",
            "0.9798803925514221\n",
            "['loss', 'accuracy']\n"
          ],
          "name": "stdout"
        }
      ]
    },
    {
      "cell_type": "code",
      "metadata": {
        "id": "ipfYY4WofEPA",
        "colab_type": "code",
        "colab": {}
      },
      "source": [
        ""
      ],
      "execution_count": 0,
      "outputs": []
    }
  ]
}